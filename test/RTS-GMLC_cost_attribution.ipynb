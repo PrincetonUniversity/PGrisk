{
 "cells": [
  {
   "cell_type": "code",
   "execution_count": null,
   "id": "b6516b86-607f-493b-bd79-5de1d5c636c1",
   "metadata": {},
   "outputs": [],
   "source": [
    "from vatic.engines import Simulator\n",
    "from vatic.data.loaders import load_input, RtsLoader, T7kLoader\n",
    "from vatic.engines import Simulator\n",
    "from pgrisk.cost_attributor import CostAttributor\n",
    "\n",
    "import pandas as pd\n",
    "import numpy as np\n",
    "from functools import reduce\n",
    "\n",
    "from pathlib import Path\n",
    "import dill as pickle\n",
    "import os\n",
    "from datetime import datetime\n",
    "import matplotlib.pyplot as plt\n",
    "\n",
    "RUC_MIPGAPS = {'RTS-GMLC': 0.01}\n",
    "SCED_HORIZONS = {'RTS-GMLC': 4}"
   ]
  },
  {
   "cell_type": "markdown",
   "id": "231fd700-122e-4bef-aa2c-c7f8444fd83a",
   "metadata": {},
   "source": [
    "## Run unit commitment simulation"
   ]
  },
  {
   "cell_type": "code",
   "execution_count": null,
   "id": "1d202661-99b2-43cf-a90b-94b1521df3bc",
   "metadata": {},
   "outputs": [],
   "source": [
    "grid = 'RTS-GMLC'  \n",
    "num_days = 1  \n",
    "start_date = '2020-01-15'\n",
    "init_state_file = None\n",
    "template, gen_data, load_data = load_input(grid, start_date, \n",
    "    num_days=num_days, init_state_file=init_state_file)\n",
    "\n",
    "data_dir = Path('data', start_date)\n",
    "os.makedirs(data_dir, exist_ok=True)\n",
    "ruc_out = Path(data_dir, 'rts-gmlc-ruc.p')\n",
    "\n",
    "siml = Simulator(template, gen_data, load_data, None,\n",
    "                pd.to_datetime(start_date).date(), 1, solver='gurobi',\n",
    "                solver_options={}, run_lmps=False, mipgap=RUC_MIPGAPS[grid],\n",
    "                load_shed_penalty = 1e4, reserve_shortfall_penalty = 1e3,\n",
    "                reserve_factor=0.05, output_detail=3,\n",
    "                prescient_sced_forecasts=True, ruc_prescience_hour=0,\n",
    "                ruc_execution_hour=16, ruc_every_hours=24,\n",
    "                ruc_horizon=48, sced_horizon=SCED_HORIZONS[grid],\n",
    "                lmp_shortfall_costs=False,\n",
    "                enforce_sced_shutdown_ramprate=False,\n",
    "                no_startup_shutdown_curves=False,\n",
    "                init_ruc_file=ruc_out, verbosity=0,\n",
    "                output_max_decimals=4, create_plots=False,\n",
    "                renew_costs=None, save_to_csv=False, \n",
    "                last_conditions_file=None,)\n",
    "_ = siml.simulate()\n"
   ]
  },
  {
   "cell_type": "markdown",
   "id": "11c40f3c-0110-409d-aa14-0fd7c9072b30",
   "metadata": {},
   "source": [
    "## Compute cost attribution between baseline and target\n",
    "#### baseline uses day-ahead forecast as inputs\n",
    "#### target uses the actual data as inputs"
   ]
  },
  {
   "cell_type": "code",
   "execution_count": null,
   "id": "27881a5c-7b65-47fb-9cef-12488f3e55ee",
   "metadata": {},
   "outputs": [],
   "source": [
    "baseline_gen_data = gen_data.copy(deep=True)\n",
    "baseline_load_data = load_data.copy(deep=True)\n",
    "\n",
    "for gen in baseline_gen_data.columns.get_level_values(1).unique():\n",
    "    baseline_gen_data['actl', gen] = baseline_gen_data['fcst', gen]\n",
    "for bus in baseline_load_data.columns.get_level_values(1).unique():\n",
    "    baseline_load_data['actl', bus] = baseline_load_data['fcst', bus]\n",
    "\n",
    "target_gen_data = gen_data.copy(deep=True)\n",
    "target_load_data = load_data.copy(deep=True)"
   ]
  },
  {
   "cell_type": "markdown",
   "id": "d11cd7fc-5e56-4209-af8b-5516235f2670",
   "metadata": {},
   "source": [
    "The cost attribution (code block below) can run at most 64 SCEDs and take long to finish."
   ]
  },
  {
   "cell_type": "code",
   "execution_count": null,
   "id": "4ce6b9bc-bce6-469a-b523-32833771aecc",
   "metadata": {},
   "outputs": [],
   "source": [
    "workdir = Path(data_dir, 'working')\n",
    "renewable_gens = list(template['ForecastRenewables'])\n",
    "load_buses = template['Buses']\n",
    "\n",
    "attr = CostAttributor(template_data = template,\n",
    "                start_date = pd.to_datetime(start_date), mipgap = 0.01,\n",
    "                reserve_factor = 0.05, lmp_shortfall_costs = False,\n",
    "                init_ruc_file = ruc_out, verbosity = 2,\n",
    "                renewable_gens = renewable_gens, load_buses = load_buses,\n",
    "                baseline_gen_data = baseline_gen_data, \n",
    "                baseline_load_data = baseline_load_data, \n",
    "                target_gen_data = target_gen_data, \n",
    "                target_load_data = target_load_data,\n",
    "                load_shed_penalty = 1e3, reserve_shortfall_penalty = 0.,\n",
    "                workdir = Path(workdir), scale = 6, tol = 0.1,)\n",
    "attr.run_shadow_price_analysis()\n",
    "attr.compute_attribution()"
   ]
  },
  {
   "cell_type": "markdown",
   "id": "71fe0d3d-74ca-41a9-a936-788878977efd",
   "metadata": {},
   "source": [
    "cost attribution of renewable generator \"309_WIND_1\" and bus \"Abel\"."
   ]
  },
  {
   "cell_type": "code",
   "execution_count": null,
   "id": "a3f04a1a-d29c-48f4-a20d-9f80f7028f01",
   "metadata": {},
   "outputs": [],
   "source": [
    "attr.cost_attribution['309_WIND_1'].head()"
   ]
  },
  {
   "cell_type": "code",
   "execution_count": null,
   "id": "2c9de0f1-7011-4721-95d4-2c36bc8f916e",
   "metadata": {},
   "outputs": [],
   "source": [
    "attr.cost_attribution['Abel'].head()"
   ]
  },
  {
   "cell_type": "markdown",
   "id": "090dd1c9-4d27-4447-95c6-1d87066ba7f5",
   "metadata": {},
   "source": [
    "Attribution summary"
   ]
  },
  {
   "cell_type": "code",
   "execution_count": null,
   "id": "34fe4e5b-44a4-40c1-aa57-4dff5b2ea47a",
   "metadata": {},
   "outputs": [],
   "source": [
    "attr.attribution_summary"
   ]
  },
  {
   "cell_type": "code",
   "execution_count": null,
   "id": "4dc39b0c-35f0-4a70-bce6-c6a00d7f8529",
   "metadata": {},
   "outputs": [],
   "source": []
  }
 ],
 "metadata": {
  "kernelspec": {
   "display_name": "Python 3 (ipykernel)",
   "language": "python",
   "name": "python3"
  },
  "language_info": {
   "codemirror_mode": {
    "name": "ipython",
    "version": 3
   },
   "file_extension": ".py",
   "mimetype": "text/x-python",
   "name": "python",
   "nbconvert_exporter": "python",
   "pygments_lexer": "ipython3",
   "version": "3.8.18"
  }
 },
 "nbformat": 4,
 "nbformat_minor": 5
}
